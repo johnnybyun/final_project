{
 "cells": [
  {
   "cell_type": "markdown",
   "metadata": {},
   "source": [
    "# How can we best predict the status of WildLife? \n",
    "\n",
    "* What Data Exists for Land Animal Wildlife?\n",
    "* What Data exists for Environment conditions (C02 Emissions)?\n",
    "* What Data exists for Marine/Ocean Wildlife Data? \n",
    "* What studies were done in YellowStone? \n",
    "\n",
    "\n",
    "*Team Name: Team Green\n",
    "\n",
    "*Teammates: Molly Cox, Melissa Wright, Kat Anggasastra, John Byun"
   ]
  },
  {
   "cell_type": "code",
   "execution_count": null,
   "metadata": {},
   "outputs": [],
   "source": [
    "\n",
    "# Dependencies\n",
    "import pandas as pd\n",
    "import numpy as np\n",
    "import requests\n",
    "import json\n",
    "import time\n",
    "import matplotlib.pyplot as plt\n",
    "#  API Key\n",
    "from config import gkey"
   ]
  }
 ],
 "metadata": {
  "kernelspec": {
   "display_name": "Python 3",
   "language": "python",
   "name": "python3"
  },
  "language_info": {
   "codemirror_mode": {
    "name": "ipython",
    "version": 3
   },
   "file_extension": ".py",
   "mimetype": "text/x-python",
   "name": "python",
   "nbconvert_exporter": "python",
   "pygments_lexer": "ipython3",
   "version": "3.7.4"
  }
 },
 "nbformat": 4,
 "nbformat_minor": 2
}
